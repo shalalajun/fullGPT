{
 "cells": [
  {
   "cell_type": "code",
   "execution_count": 29,
   "metadata": {},
   "outputs": [
    {
     "name": "stderr",
     "output_type": "stream",
     "text": [
      "Created a chunk of size 537, which is longer than the specified 400\n",
      "Created a chunk of size 604, which is longer than the specified 400\n",
      "Created a chunk of size 488, which is longer than the specified 400\n",
      "Created a chunk of size 703, which is longer than the specified 400\n",
      "Created a chunk of size 484, which is longer than the specified 400\n",
      "Created a chunk of size 480, which is longer than the specified 400\n",
      "Created a chunk of size 655, which is longer than the specified 400\n",
      "Created a chunk of size 664, which is longer than the specified 400\n"
     ]
    },
    {
     "data": {
      "text/plain": [
       "AIMessage(content=\"아마테라스는 다양한 문서와 기록에서 언급되는 인물로, 여러 가지 중요한 역할과 사건에 연관되어 있습니다. 다음은 아마테라스에 대한 주요 정보입니다:\\n\\n1. **근위군 창립**:\\n   - 아마테라스는 2810년에 우수한 헤드라이너(엘리트 전사)를 모아 독자적인 근위군을 만들었습니다. 이 근위군은 미라쥬 나이트(Mirage Knights)라는 이름으로 알려져 있습니다.\\n   - 2813년에 아마테라스의 근위기사단은 FEMC라는 정식 명칭을 받고 아마테라스의 모든 병력을 관리하게 되었습니다. 이들은 혼드 미라쥬를 이용해 각국의 분쟁을 진압하기 시작했습니다.\\n\\n2. **생명의 물**:\\n   - 아마테라스는 '생명의 물'의 힘으로 일시적으로 건강을 회복했으나, 완전히 회복하지는 못했습니다. 이후 아트로포스와 재회했으나, 아렌 브래포드가 허름한 MH 아파치로 오제 알스큘를 탄 아트로포스를 꺾는 것을 보고 경악했습니다.\\n\\n3. **정치적 역할**:\\n   - 아마테라스는 라키시스라는 파티마에게 자신의 이름을 부여하고, 형식적으로는 파티마이지만 강력한 실체를 가진 라키시스에게 황위 계승 3위의 위치를 부여했습니다.\\n\\n4. **역사적 사건**:\\n   - 2400년대에는 아마테라스의 동태양계와 북태양계는 비교적 안정되어 있었지만, 남서 태양계는 극도로 혼란한 상태였습니다. 이 기간 동안 많은 모터헤드와 파티마가 만들어지고 소실되었습니다.\\n   - 2629년에 아마테라스는 애들러 성의 보카쥬 내전에서 크롬 발란셰와 데이모스 하이아라키를 만났습니다.\\n\\n이 정보들은 아마테라스가 단순한 인물이 아니라, 군사적, 정치적, 그리고 역사적으로 중요한 역할을 수행한 인물임을 보여줍니다.\")"
      ]
     },
     "execution_count": 29,
     "metadata": {},
     "output_type": "execute_result"
    }
   ],
   "source": [
    "from typing import Text\n",
    "from langchain.chat_models import ChatOpenAI\n",
    "from langchain.document_loaders import TextLoader\n",
    "from langchain.text_splitter import CharacterTextSplitter\n",
    "from langchain.embeddings import OpenAIEmbeddings, CacheBackedEmbeddings\n",
    "from langchain.vectorstores import FAISS\n",
    "from langchain.storage import LocalFileStore\n",
    "from langchain.prompts import ChatPromptTemplate\n",
    "from langchain.schema.runnable import RunnablePassthrough\n",
    "\n",
    "\n",
    "llm = ChatOpenAI(\n",
    "    model_name=\"gpt-4o\",\n",
    "    temperature=0.5\n",
    ")\n",
    "\n",
    "cache_dir = LocalFileStore(\"./.cache/\")\n",
    "\n",
    "\n",
    "splitter = CharacterTextSplitter.from_tiktoken_encoder(\n",
    "    separator=\"\\n\",\n",
    "    chunk_size = 400,\n",
    "    chunk_overlap = 10,\n",
    ")\n",
    "\n",
    "loader = TextLoader(\"./files/chapter_1.txt\")\n",
    "\n",
    "docs = loader.load_and_split(text_splitter=splitter)\n",
    "\n",
    "embeddings = OpenAIEmbeddings()\n",
    "\n",
    "cache_embedings = CacheBackedEmbeddings.from_bytes_store(\n",
    "    embeddings, cache_dir\n",
    ")\n",
    "\n",
    "vectorstore = FAISS.from_documents(docs, cache_embedings)\n",
    "\n",
    "retriver = vectorstore.as_retriever()\n",
    "\n",
    "prompt = ChatPromptTemplate.from_messages([\n",
    "\n",
    "    (\"system\",\"너는 아주 훌륭한 파티마야 너는 context 따라서 대답을해 너가 모르는 것은 모르는 거야 지어내지마:\\n\\n{context}\"),\n",
    "    (\"human\",\"{question}\"),\n",
    "])\n",
    "\n",
    "chain = {\"context\":retriver, \"question\":RunnablePassthrough(),\"extra\":RunnablePassthrough()} | prompt | llm\n",
    "\n",
    "chain.invoke(\"아마테라스에대해 설명해줘\")\n"
   ]
  },
  {
   "cell_type": "code",
   "execution_count": null,
   "metadata": {},
   "outputs": [],
   "source": []
  }
 ],
 "metadata": {
  "kernelspec": {
   "display_name": "env",
   "language": "python",
   "name": "python3"
  },
  "language_info": {
   "codemirror_mode": {
    "name": "ipython",
    "version": 3
   },
   "file_extension": ".py",
   "mimetype": "text/x-python",
   "name": "python",
   "nbconvert_exporter": "python",
   "pygments_lexer": "ipython3",
   "version": "3.11.8"
  }
 },
 "nbformat": 4,
 "nbformat_minor": 2
}
